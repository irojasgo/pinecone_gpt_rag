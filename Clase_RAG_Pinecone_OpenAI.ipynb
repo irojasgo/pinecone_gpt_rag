{
  "nbformat": 4,
  "nbformat_minor": 0,
  "metadata": {
    "colab": {
      "provenance": []
    },
    "kernelspec": {
      "name": "python3",
      "display_name": "Python 3"
    },
    "language_info": {
      "name": "python"
    }
  },
  "cells": [
    {
      "cell_type": "markdown",
      "source": [
        "# Retrieval Augmented Generation with OpenAI's GPT as Reasoning Engine and Pinecone as remote vectorstore\n",
        "This project explores the capabilities of retrieval augmented generation (RAG) for context injection in LLMs with remove vectorstores hosted in Pinecone, a cloud vector database provider"
      ],
      "metadata": {
        "id": "VMNbCQ5RxSSs"
      }
    },
    {
      "cell_type": "markdown",
      "source": [
        "## Libraries are installed"
      ],
      "metadata": {
        "id": "V-Jj7H9ixko7"
      }
    },
    {
      "cell_type": "code",
      "execution_count": null,
      "metadata": {
        "colab": {
          "base_uri": "https://localhost:8080/"
        },
        "id": "cNS86oadahZp",
        "outputId": "823c2e11-8044-47ba-9496-ced96356b69a"
      },
      "outputs": [
        {
          "output_type": "stream",
          "name": "stdout",
          "text": [
            "\u001b[2K     \u001b[90m━━━━━━━━━━━━━━━━━━━━━━━━━━━━━━━━━━━━━━━━\u001b[0m \u001b[32m226.7/226.7 kB\u001b[0m \u001b[31m3.6 MB/s\u001b[0m eta \u001b[36m0:00:00\u001b[0m\n",
            "\u001b[2K     \u001b[90m━━━━━━━━━━━━━━━━━━━━━━━━━━━━━━━━━━━━━━━━\u001b[0m \u001b[32m75.9/75.9 kB\u001b[0m \u001b[31m6.2 MB/s\u001b[0m eta \u001b[36m0:00:00\u001b[0m\n",
            "\u001b[2K     \u001b[90m━━━━━━━━━━━━━━━━━━━━━━━━━━━━━━━━━━━━━━━━\u001b[0m \u001b[32m76.9/76.9 kB\u001b[0m \u001b[31m6.0 MB/s\u001b[0m eta \u001b[36m0:00:00\u001b[0m\n",
            "\u001b[2K     \u001b[90m━━━━━━━━━━━━━━━━━━━━━━━━━━━━━━━━━━━━━━━━\u001b[0m \u001b[32m58.3/58.3 kB\u001b[0m \u001b[31m4.8 MB/s\u001b[0m eta \u001b[36m0:00:00\u001b[0m\n",
            "\u001b[?25h\u001b[31mERROR: pip's dependency resolver does not currently take into account all the packages that are installed. This behaviour is the source of the following dependency conflicts.\n",
            "llmx 0.0.15a0 requires cohere, which is not installed.\n",
            "llmx 0.0.15a0 requires tiktoken, which is not installed.\u001b[0m\u001b[31m\n",
            "\u001b[2K     \u001b[90m━━━━━━━━━━━━━━━━━━━━━━━━━━━━━━━━━━━━━━━━\u001b[0m \u001b[32m811.8/811.8 kB\u001b[0m \u001b[31m7.4 MB/s\u001b[0m eta \u001b[36m0:00:00\u001b[0m\n",
            "\u001b[2K     \u001b[90m━━━━━━━━━━━━━━━━━━━━━━━━━━━━━━━━━━━━━━━━\u001b[0m \u001b[32m1.6/1.6 MB\u001b[0m \u001b[31m13.3 MB/s\u001b[0m eta \u001b[36m0:00:00\u001b[0m\n",
            "\u001b[2K     \u001b[90m━━━━━━━━━━━━━━━━━━━━━━━━━━━━━━━━━━━━━━━━\u001b[0m \u001b[32m239.4/239.4 kB\u001b[0m \u001b[31m14.5 MB/s\u001b[0m eta \u001b[36m0:00:00\u001b[0m\n",
            "\u001b[2K     \u001b[90m━━━━━━━━━━━━━━━━━━━━━━━━━━━━━━━━━━━━━━━━\u001b[0m \u001b[32m55.7/55.7 kB\u001b[0m \u001b[31m5.9 MB/s\u001b[0m eta \u001b[36m0:00:00\u001b[0m\n",
            "\u001b[2K     \u001b[90m━━━━━━━━━━━━━━━━━━━━━━━━━━━━━━━━━━━━━━━━\u001b[0m \u001b[32m49.4/49.4 kB\u001b[0m \u001b[31m5.0 MB/s\u001b[0m eta \u001b[36m0:00:00\u001b[0m\n",
            "\u001b[2K     \u001b[90m━━━━━━━━━━━━━━━━━━━━━━━━━━━━━━━━━━━━━━━━\u001b[0m \u001b[32m55.4/55.4 kB\u001b[0m \u001b[31m5.8 MB/s\u001b[0m eta \u001b[36m0:00:00\u001b[0m\n",
            "\u001b[2K     \u001b[90m━━━━━━━━━━━━━━━━━━━━━━━━━━━━━━━━━━━━━━━━\u001b[0m \u001b[32m284.0/284.0 kB\u001b[0m \u001b[31m5.2 MB/s\u001b[0m eta \u001b[36m0:00:00\u001b[0m\n",
            "\u001b[2K     \u001b[90m━━━━━━━━━━━━━━━━━━━━━━━━━━━━━━━━━━━━━━━━\u001b[0m \u001b[32m201.4/201.4 kB\u001b[0m \u001b[31m4.0 MB/s\u001b[0m eta \u001b[36m0:00:00\u001b[0m\n",
            "\u001b[2K     \u001b[90m━━━━━━━━━━━━━━━━━━━━━━━━━━━━━━━━━━━━━━━━\u001b[0m \u001b[32m322.3/322.3 kB\u001b[0m \u001b[31m4.4 MB/s\u001b[0m eta \u001b[36m0:00:00\u001b[0m\n",
            "\u001b[2K     \u001b[90m━━━━━━━━━━━━━━━━━━━━━━━━━━━━━━━━━━━━━━━━\u001b[0m \u001b[32m1.8/1.8 MB\u001b[0m \u001b[31m9.4 MB/s\u001b[0m eta \u001b[36m0:00:00\u001b[0m\n",
            "\u001b[?25h\u001b[31mERROR: pip's dependency resolver does not currently take into account all the packages that are installed. This behaviour is the source of the following dependency conflicts.\n",
            "llmx 0.0.15a0 requires cohere, which is not installed.\u001b[0m\u001b[31m\n",
            "\u001b[0m"
          ]
        }
      ],
      "source": [
        "!pip install openai --quiet\n",
        "!pip install langchain --quiet\n",
        "!pip install pypdf --quiet\n",
        "!pip install pinecone-client --quiet\n",
        "!pip install langchain-pinecone --quiet\n",
        "!pip install tiktoken --quiet"
      ]
    },
    {
      "cell_type": "markdown",
      "source": [
        "## Drive is mounted to fetch credentials"
      ],
      "metadata": {
        "id": "YszaBv8vxnnB"
      }
    },
    {
      "cell_type": "code",
      "source": [
        "from google.colab import drive\n",
        "drive.mount('/content/gdrive')"
      ],
      "metadata": {
        "colab": {
          "base_uri": "https://localhost:8080/"
        },
        "id": "SBxYwASsatZz",
        "outputId": "b9d2c7af-0df6-4302-e58b-ebc837864a6a"
      },
      "execution_count": null,
      "outputs": [
        {
          "output_type": "stream",
          "name": "stdout",
          "text": [
            "Mounted at /content/gdrive\n"
          ]
        }
      ]
    },
    {
      "cell_type": "markdown",
      "source": [
        "## Keys are stored as environment variables"
      ],
      "metadata": {
        "id": "ydz7N0vzxr2l"
      }
    },
    {
      "cell_type": "code",
      "source": [
        "import os\n",
        "os.environ['OPENAI_API_KEY'] = 'openai-key'\n",
        "os.environ['PINECONE_API_KEY'] = 'pinecone-key'\n",
        "os.environ['PINECONE_INDEX_NAME'] = 'demo-clase'"
      ],
      "metadata": {
        "id": "5U1vF0UJbQCA"
      },
      "execution_count": null,
      "outputs": []
    },
    {
      "cell_type": "markdown",
      "source": [
        "## Libraries are imported"
      ],
      "metadata": {
        "id": "MWVa3Bnzxz0z"
      }
    },
    {
      "cell_type": "code",
      "source": [
        "from langchain.chat_models import ChatOpenAI\n",
        "from langchain.embeddings.openai import OpenAIEmbeddings\n",
        "from langchain.callbacks import get_openai_callback\n",
        "from langchain.chains.question_answering import load_qa_chain\n",
        "from langchain_pinecone import Pinecone\n",
        "from langchain_community.document_loaders import PyPDFLoader\n",
        "from langchain.text_splitter import RecursiveCharacterTextSplitter\n",
        "from pypdf import PdfReader"
      ],
      "metadata": {
        "id": "MY1vVWaLbr8m"
      },
      "execution_count": null,
      "outputs": []
    },
    {
      "cell_type": "markdown",
      "source": [
        "## GPT 3.5 model is instantiated"
      ],
      "metadata": {
        "id": "P2Ug2zrcx1wh"
      }
    },
    {
      "cell_type": "code",
      "source": [
        "chat = ChatOpenAI(model = 'gpt-3.5-turbo')"
      ],
      "metadata": {
        "id": "L64wjm6jf_0e"
      },
      "execution_count": null,
      "outputs": []
    },
    {
      "cell_type": "markdown",
      "source": [
        "## PDF file with context is then read and parsed to extract the text contained in it"
      ],
      "metadata": {
        "id": "sWInJJ9sx4aM"
      }
    },
    {
      "cell_type": "code",
      "source": [
        "pdf = \"/content/gdrive/MyDrive/GenAIEne2024/Tesla Q3 2023 Earnings Call.pdf\"\n",
        "pdf_reader = PdfReader(pdf)\n",
        "text = \"\"\n",
        "for page in pdf_reader.pages:\n",
        "  text += page.extract_text()"
      ],
      "metadata": {
        "id": "Uf4gnAJngEaN"
      },
      "execution_count": null,
      "outputs": []
    },
    {
      "cell_type": "markdown",
      "source": [
        "## Text is displayed"
      ],
      "metadata": {
        "id": "rPQAxfX2x9pE"
      }
    },
    {
      "cell_type": "code",
      "source": [
        "text"
      ],
      "metadata": {
        "colab": {
          "base_uri": "https://localhost:8080/",
          "height": 157
        },
        "id": "4QPpaw7YjQZS",
        "outputId": "a111113c-2bca-4d09-e2ba-ad17857df5a7"
      },
      "execution_count": null,
      "outputs": [
        {
          "output_type": "execute_result",
          "data": {
            "text/plain": [
              "\"Elon Musk  \\n[Audio gap] ramp -up of new factories, and we believe there's still meaningful room for \\nimprovement there. Regarding Autopilot and AI, our vehicle has now driven over 0.5 billion \\nmiles with FSD beta, full self -driving beta, and that number is growing rapidl y. We recently \\ncompleted a 10,000 GPU cluster of H100s. We think probably bringing it into operation faster \\nthan anyone's ever brought that much compute per unit time into production since training is the \\nfundamental limiting factor on progress with full s elf-driving and vehicle autonomy.  \\nWe're also seeing significant promise with FSD version 12. This is the end -to-end AI where it's a \\nphoton count in controls out or really you can think of it as there's just large midstream coming \\nin and a tiny bit stream going out, impressing reality into a very small set of outputs, which is \\nactually kind of how humans work. The vast majority of human data input is optics from our \\neyes. And so, we are like the car, photons, and controls out with all that's in the middle.  \\nIt's interesting to think about that. We will continue to invest significantly in AI development as \\nthis is really the massive game changer, and I mean, success in this regard in the long term, I \\nthink has the potential to make Tesla the most valuable company in the world by far. If you have \\nfully autonomous cars at scale and fully autonomous humanoid robots that are truly useful, it's  \\nnot clear what the limit is. Regarding energy storage, we deployed four gigawatt hours of energy \\nstorage products in Q3.  \\nAnd as this business grows, the Energy division is becoming our highest -margin business. \\nEnergy and service now contribute over $0.5 billion to quarterly profit. The Cybertruck -- and a \\nlot of people are excited about Cybertruck. I am too.  \\nI've driven the car. It's an amazing product. I do want to emphasize that there will be enormous \\nchallenges in reaching volume production with the Cybertruck and then in making a Cybertruck \\ncash flow positive. This is simply normal for -- when you've got a  product with a lot of new \\ntechnology or any new -- brand -new vehicle program, but especially one that is as different and \\nadvanced as the Cybertruck, you will have problems proportionate to how many new things \\nyou're trying to solve at scale.  \\nSo, I just want to emphasize that one. I think this is potentially our best product ever. And I think \\nit is our best product ever. It is going to require immense work to reach volume production and \\nbe cash flow positive at a price that people can afford.  \\nOften, people do not understand what is truly hard. That's why I say prototypes are easy. \\nProduction is hard. People think it's the idea or you make a prototype.  \\nYou design a car. And as soon as designing car is -- just anyone can do it. It does require taste. It \\ndoes require effort to design a prototype.  \\nBut this difficulty going from a prototype to volume production is like 10,000% harder to get to \\nvolume production than to make the prototype in the first place. And then it is even harder than that to reach positive cash flow. That is why there have not been new car start -ups that have been \\nsuccessful for 100 years apart from Tesla. So, I just want to temper expectations for Cybertruck.  \\nIt's a great product, but financially, it will take, I don't know, a year to 18 months before it is a \\nsignificant positive cash flow contributor. I wish there was some way for that to be different, but \\nthat's my best guess. So, really, the demand is off th e charts. We have over 1 million people who \\nhave reserved the car.  \\nSo, it's not a demand issue, but we have to make it, and we need to make it at a price that people \\ncan afford, insanely difficult things. In conclusion, we continue to focus on ramping production \\nwhile maintaining positive cash flow, and we continue to tar get expect to have around 1.8 \\nmillion vehicle deliveries as stated earlier this year. The Tesla AI team is, I think, one of the \\nworld's best, and I think it is actually by far the world's best when it comes to real -world AI. But \\nI'll say that again.  \\nTesla has the best real -world AI team on earth, period, and it's getting better. And lastly, I \\nwanted to thank all of our employees who are making a lot of extra effort during uncertain times. \\nThank you very much for your hard work and the impact that you' re making.  \\nMartin Viecha  -- Senior Director, Investor Relations  \\nThank you very much, Elon. And our CFO, Vaibhav, had some opening remarks as well.  \\nVaibhav Taneja  -- Chief Financial Officer  \\nThanks, Martin. Vehicle deliveries in Q3 outpaced production, and we had yet another record \\nquarter of profitability in our Energy business. Congratulations to the Tesla team for their \\ncontinued focus on operational excellence as we navigate through a peri od of economic \\nuncertainty, higher interest rates, and shifting consumer sentiment. As Elon mentioned, our Q3 \\noperational and financial performance was impacted by planned downturns for our factory \\nupgrades.  \\nThis was necessary to allow for further factory improvements and production rate increases. \\nDespite those factory shutdowns, our cost per vehicle decreased to approximately $37,500. We \\nsaw sequential decreases in material costs and freight. Reducing the co st of our vehicles is our \\ntop priority.  \\nOn the operating expenses front, R&D expenses continue to rise due to Cybertruck prototype \\nbuilds and pilot production testing combined with spend on AI technologies like full self -driving \\nOptimus and Dojo. We have and will continue to make investments in these areas and hence, our \\ncapital expenditure and R&D will continue to grow in the near term. However, our focus is to \\ncontinue making investments through positive cash flow from operations. This year itself we \\nhave generated operating cash flows of appro ximately $8.9 billion and free cash flows of \\napproximately $2.3 billion.  Our other businesses are becoming more prominent on a stand -alone basis with Energy business \\nleading the charge primarily from the growth in megabyte deployments. Our services and other \\nbusinesses, on a year -on-year basis, also continued to show positive m omentum as we benefit \\nfrom our growing fleet. As regards to our pricing strategy, in addition to what we have shared \\nbefore, I want to elaborate that most car buying happens with one or other form of financing. \\nAnd hence, we also view pricing in terms of m onthly costs for the customer.  \\nAnd therefore, as interest costs in the U.S. have risen substantially, it has required us to adjust \\nthe price of our vehicles to keep the monthly cost in parity. We've tried to offset such \\nadjustments by our focus on reducing costs. However, there is an in herent lag in cost reductions, \\nwhich in turn impacts margins.  \\nTo that extent, we recently announced a partner vehicle leasing program in the U.S., whereby \\nyou can get our standard Model Y for as low as $399 a month. In conclusion, as we navigate \\nthrough a challenging economic environment, we're focused on reducing co sts, maximizing \\ndelivery volumes, and continue making investments in the future, in particular, AI and other \\nnext-generation platforms. We believe this strategy positions us well for the long term. Once \\nagain, I would like to thank the Tesla team for their  efforts in the last quarter.  \\nMartin Viecha  -- Senior Director, Investor Relations  \\nThank you very much. And now, let's go to investor questions. The first investor question comes \\nfrom Craig. How many Cybertruck deliveries do you anticipate for 2024?  \\nElon Musk  \\nIt's difficult to make an accurate guess at this point. Going back to what I said earlier that the \\nramp is going to be extremely difficult. And like I said, there's no way around that. If you try to \\nmake -- if we just try to do some copycat vehicle design,  of which there are literally 200 models \\nthat are slight variations on a theme in the combustion engine world, just a distinction without a \\ndifference, then it's really not that hard.  \\nBut if you want to do something radical and innovative and something really special like the \\nCybertruck, it is extremely difficult because there's nothing to copy. You have to invent not just \\nthe car but the way to make the car. So, the more uncharted the territory, the less predictable the \\noutcome. Now, I can say that if you say, well, where will things end up, I think we'll end up with \\nroughly 0.25 million Cybertrucks a year, but we're not -- I don't think we're going to reach that \\noutput rate next year.  \\nI think we'll probably reach it sometime in 2025. That's my best guess.  \\nMartin Viecha  -- Senior Director, Investor Relations  \\nThank you. The second question is, can you provide a progress update on the 4680 cells, \\nparticularly progress toward performance improvements and cost savings outlined on Battery \\nDay? Thank you.  Unknown speaker  \\nSure thing, Martin. 4680 cell production in Texas increased 40% quarter over quarter. Congrats \\nto the Texas team for producing their 20 millionth cell off of line one. Texas is now our primary \\n4680 facility.  \\nWe're heavily focused on quality. Scrap is down 40% quarter over quarter. With the increased \\nvolume and yield improvements, cell costs consistently improved month over month within the \\nquarter, although we have a lot more work to do to achieve our steady -state goals. And that is our \\npriority.  \\nThe Cybertruck cell with 10% higher energy than our Model Y cell started production on Line 2 \\nin Texas. This quarter, we convert to building 100% Cybertruck cells to simplify and focus the \\nfactory as we ramp all four lines in Phase 1 over the next three qu arters. Phase 2 of the Texas \\n4680 facility is currently under construction. The additional four lines incorporate further capital \\nefficiencies over Phase 1, and our target is for them to start producing in late 2024.  \\nLastly, in Kato, we're retooling to enable large -scale pilot runs of our next -generation cell \\ndesigns. Kato's long -term goal is to be the launch pad for new cells, one generation ahead of our \\nmass production facilities, enabling faster iteration and smooth er ramp -ups of new designs.  \\nMartin Viecha  -- Senior Director, Investor Relations  \\nThank you. The next question from institutional investors. Could you please provide an update \\non capacity expansion plans for companies, factories in Berlin and Austin, and the opening \\nschedule of Giga factory in Mexico?  \\nUnknown speaker  \\nBerlin and Austin factory, the current priority is actually maximize the output from our existing \\nlines by laser -focusing on efficiency improvements. As always, maintaining a high quality and \\nreducing per unit cost will be as critical as growing the produc tion volume. For Mexico, we are \\nworking on infrastructure and factory design in parallel with the engineering development of the \\nnew production that we'll be manufacturing there. That's all I can share for that.  \\nElon Musk  \\nAnd in Mexico, we're laying the groundwork to begin construction and doing all the long lead \\nitems, but I think we want to just get a sense for the global economy is like before we go full tilt \\non the Mexico factory. I am worried about the high interest ra te environment that we're in. I just \\ncan't emphasize this enough, that the vast majority of people buying a car is about the monthly \\npayment. And as interest rates rise, the proportion of that monthly payment that is interest \\nincreases naturally.  \\nIf interest rates remain high or if they go even higher, it's that much harder for people to buy the \\ncar. They simply can't afford it. And we are tracking, I believe, at this point for Model Y to be the selling car out, but not just in revenue but in unit value. If you compare that to the other \\nvehicles that are No.  \\n2 and No. 3 and whatnot, they cost much less than our car. So, we're just hitting a law of large \\nnumbers situations here. I know people want us advertising.  \\nWe are advertising. I think there is some -- something -- there is something to be gained on the \\nadvertising front. I don't think it's nothing, but informing people of a car that is great but they \\ncannot afford doesn't really help. So, that is really the t hing that must be sold, is to make the car \\naffordable, or the average person cannot buy it for any amount of money.  \\nThey can't afford it. They can't afford it, so this is a great deal.  \\nMartin Viecha  -- Senior Director, Investor Relations  \\nOK. Thank you very much. The next question is, when do you expect Model 3 Highland to be \\navailable in the U.S.? I just wanted to address that, unfortunately, we don't answer product -\\nrelated questions and timings on earnings call. So, let's go to the next o ne. \\nCurrent sell -side consensus assumes that Tesla will deliver 2.3 million vehicles in 2024, \\nrepresenting 28% growth versus 2023 guidance. Is this growth rate achievable without any mass \\nmarket launches in 2024? And when does Tesla expect to return to its 50%  long-term CAGR?  \\nVaibhav Taneja  -- Chief Financial Officer  \\nThanks for the question. When you look at 2024, there are a lot of moving pieces. I just talked \\nabout what is happening in the macroeconomic environment. So, we're focused on growing our \\nvolumes in a very cost -efficient manner and are carefully reviewing a ll our options, and we'll be \\nable to provide a much more meaningful update at our next earnings call.  \\nElon Musk  \\nYeah. I mean, the risk of stating the obvious, it's not possible to have a compound growth rate of \\n50% forever or you will exceed the mass of the known universe. But I think we will grow very \\nrapidly, much faster than any other car company on Earth, by far . \\nMartin Viecha  -- Senior Director, Investor Relations  \\nThank you. Next question is, do you have an approximate timeline in mind for the robotaxi, \\ndriven or nondriven? What excites you most about how this project is progressing?  \\nElon Musk  \\nWell, robotaxi is necessarily nondriven. I guess I'm very excited about our progress with \\nautonomy, the end -to-end, nothing but net. Self -driving software is amazing, drives me around \\nAustin with no interventions. So, it's clearly the right move.  So, it's really pretty amazing. And obviously, that same software and approach will enable \\nOptimus to be useful things and enable Optimus to learn how to do things simply by looking. So, \\nextremely exciting in the long term. As I mentioned before, given tha t economic output is a \\nnumber of people times productivity, if you no longer have a constraint on people, effectively, \\nyou've got a humanoid robot that can do as much as you'd like, your economy is wisely infinite \\nor infinite for all intents and purposes.  \\nSo, I don't think anyone is going to do it better than Tesla by a long shot. Plus, dynamics is \\nimpressive, but their robot lacks a brain or like the [Inaudible] or whatever. Yeah, lacks a brain. \\nAnd then you also need to be able to design the humanoid robo t in such a way that it can be mass \\nmanufactured.  \\nAnd then at some point, the robots will manufacture the robots. Now, obviously, we need to \\nmake sure that it's a good place for humans in that future. We do not create some variance of the \\nterminator outcome. So, we're going to put a lot of effort into loc alized control of the humanoid \\nrobot.  \\nSo, basically, anyone will be able to shut it off locally, and you can't change that even if you put \\n-- like a software update, you can't change that. It has to be hard -coded.  \\nMartin Viecha  -- Senior Director, Investor Relations  \\nThank you. The next question is, why was the price dropped on FSD if it is getting better and \\nrobotaxi is expected so soon?  \\nElon Musk  \\nWell, we just wanted to make it more affordable as more people try it. Yes, I think, over time, \\nthe price of FSD will increase proportionate to its value. So, with regard the current price as a \\nkind of a temporary low.  \\nMartin Viecha  -- Senior Director, Investor Relations  \\nThe next question is, again, on FSD. Mercedes is accepting legal liability for when it's Level 3 \\nautonomous driving system drive pilot is active. Is Tesla planning to accept legal liability for \\nFSD? And if so, when?  \\nElon Musk  \\nWell, there's a lot of people that assume we have legal liability judging by the lawsuits. We're \\ncertainly not being let that off the hook on that front whether we'd like to or wouldn't like to do.  \\nUnknown speaker  \\nI mean, I think it's important to remember for everyone that Mercedes' system is limited to roads \\nin Nevada and some certain cities in California, doesn't work in the snow or the fog. It must have a lead car marked lanes, only 40 miles per hour. Our system is meant to be holistic and drive in \\nany conditions, so we obviously have a much more capable approach. But with those kind of \\nlimitations, it's really not very useful.  \\nElon Musk  \\nNo, I think some people understand the profundity of the Tesla AI system. Mostly, it's very, very \\nfew. It's basically baby AGI. It has to understand reality in order to drive, baby AGI.  \\nMartin Viecha  -- Senior Director, Investor Relations  \\nThank you. The next question on Optimus. Will Optimus be working on Gigafactory lines next \\nyear? If so, how many would you guess will be deployed?  \\nElon Musk  \\nI think at this point, we are not ready to discuss details of the Optimus program, but we will \\nmake -- provide periodic updates online. So, as you can see, Optimus, a year ago, could barely \\nwalk and now it can do yoga. So, a few years from now, it can prob ably do valet.  \\nMartin Viecha  -- Senior Director, Investor Relations  \\nSounds good. And the last question from investors is NeuroNet path planning represents a \\nsignificant advance in capability and safety for FSD. What steps is Tesla taking to make this \\ntechnology available outside the U.S.?  \\nElon Musk  \\nYeah. Our approach has been to try to get it -- like the more places we're trying to make it work, \\nthe harder the problem is. So, the reason we don't do it in all countries simultaneously is that it \\nwould take much longer to make it work anywhere at all. S o, that's why it's hardly just North \\nAmerica.  \\nAnd also, for most parts of the world, you have to get approval before deploying things, whereas \\nin the U.S., you can deploy things at risk or at least you take liability for what you're deploying. \\nSo, most countries require some sort of extensive approval  program. So, we only want to go \\nthrough that extensive approval program when we think it's kind of ready for prime time in that \\ncountry. I apologize it's not in those countries, but we keep plenty of ways to make it better.  \\nAnd it really needs to drive such that it exceeds the -- even unsupervised, significantly exceeds \\nthe probability of entry of a human or significantly better, a lower probability of entry than a \\nhuman by far. I think we're tracking to that point very quick ly. Obviously, in the past, I've been \\noverly optimistic about this. The reason I've been overly optimistic is that the progress tends to \\nsort of look like a log curve, which is that you have kind of rapid initial improvements that if you \\nwere to extrapolat e that looks rapid fairly linear rate of improvement, you get to self -driving \\nquite quickly, but then the rate of improvement curves over logarithmically as such to asymptote.  That's not happened several times. I would characterize our progress in real -world AI as a series \\nof stacked log curves. I think that's also true in other parts of AI, like AI Lens and whatnot, a \\nseries of stacked log curves. Each log curve is higher than the last one.  \\nSo, if you keep stacking them, keep stacking logs, eventually get to FSD.  \\nMartin Viecha  -- Senior Director, Investor Relations  \\nThank you. Let's now go to analyst questions. The first question comes from Will Stein from \\nTruist. Will, please go ahead and unmute yourself.  \\nWill Stein  -- Truist Securities -- Analyst  \\nGreat. Thanks so much for taking my question, and thanks for all the updates today. We learned \\nearlier on the call, it sounds like you don't think the truck will ramp to significant volume until its \\nthird year of production. Should we have a similar antici pation for the ramp of the NextGen \\nplatform? Or is there any reason that we should be maybe more optimistic or pessimistic about \\nthe ramp profile there? Thank you.  \\nElon Musk  \\nYeah. I mean, to be clear, it's not really the third year of production. It's kind of like the 18th \\nmonth of production is roughly my guess. So, it's just that they happen -- it will happen -- is that \\nthe -- it starts this year, spans next year, and gets to 2025 . \\nSo, technically, there are three calendar years in there, but there's actually only 18 months, not \\nthree years. I would be very disappointed if it took us -- and that would be shocking if it took us \\nthree years. But 18 months from initial deliveries to hav e -- to reach volume and reach prosperity \\nwith an immense -- I can't tell you how much the blood, sweat, and tears level required to \\nachieve. That is just staggering.  \\nI have been through it many times. And here we go again.  \\nWill Stein  -- Truist Securities -- Analyst  \\nSimilar path for the next -gen platform?  \\nUnknown speaker  \\nI mean, there's like unique complexity to Cybertruck.  \\nElon Musk  \\nYes. I mean, Cybertruck is -- \\nUnknown speaker  Speaking [Inaudible].  \\nElon Musk  \\nYeah. I mean, we dug our own grave with the Cybertruck. You know, nobody – in general, \\nprobably nobody digs a grave better than themselves. And so, it is -- Cybertruck's one of those \\nspecial products that comes along only once in a long while.  \\nAnd special products that come along once in a long while are just incredibly difficult to bring to \\nmarket to reach volume, to be prosperous. It's fundamental to the nature of the newness. So, now \\nthe sort of high -volume, low -cost smaller vehicle is actual ly much more conventional.  \\nUnknown speaker  \\nYeah. In terms of like the technologies we're putting in, we didn't have to invent to be full hard \\nstainless steel or have mega 9,000 -ton castings or the largest hot stamping in the world or high \\n[Audio gap]  \\nElon Musk  \\nAre quite in the same way as the Cybertruck. I think it will be quite a fast ramp. As I was saying, \\nwe're doing everything possible to simplify that vehicle in order to achieve a units -per-minute \\nlevel that is unheard of in the auto industry.  \\nUnknown speaker  \\nI mean, the single location makes it easier to automate. It also makes it lower cost. Yes, that's \\nintrinsically lower cost.  \\nElon Musk  \\nYeah. Just to be clear, it will be cool, but it's utilitarian. It's not meant to, you know, fill you with \\nmagic. It's to get you from A to B.  \\nIt will be still beautiful, but it's utility. It doesn't have 14 inches of [Inaudible] suspension. Yes. \\nSo, I mean, the Cybertruck has a lot of bells and whistles.  \\nMartin Viecha  -- Senior Director, Investor Relations  \\nAll right. Thank you very much. Let's go to Pierre Ferragu from New Street Research.  \\nPierre Ferragu  -- New Street Research -- Analyst  \\nHey, can you hear me fine? Yes?  \\nMartin Viecha  -- Senior Director, Investor Relations  Yes. \\nPierre Ferragu  -- New Street Research -- Analyst  \\nI have, first, like a follow -up question on FSD and pricing and adoption. So, I agree with you that \\nas FSD improves, we should see its value increasing. But I guess like the ultimate values of FSD, \\nwhich is to be able to handle like a robotaxi is not going  to necessarily interest everybody, and \\nyou have a bit of a degraded version that would be like a chauffeur service where the car drives \\nby itself, but you still have to be in the car and around. And then there is like the hands -on \\nversion of the service.  \\nAnd I guess there should be like much lower cost, lower feature kind of variance of the service \\nthat could have a very large penetration on your installed base and more expensive one that \\nwould remain at a lower penetration level. So, I'm just wondering if  you're taking that -- and last \\nbut not least, like the simplest version of FSD available and are going to work from a technical \\nperspective, probably before like the ultimate robotaxi version can work if ever. And so, I'm \\nwondering how you take that into account in how you're thinking like the financial contribution \\nof FSD over time, and whether you could evolve your pricing along that kind of tiers to increase \\nadoption.  \\nElon Musk  \\nYeah. I mean, a fully autonomous vehicle, I think, Pierre, your sort of the economics of \\nautonomous vehicle are truly astounding in a positive way. When you look at passenger vehicles \\ntoday, they only get about 10 to 12 hours of usage per week. If you driv e an hour and a half a day \\non average, that's roughly 10 hours a week out of 168 hours.  \\nAnd then there's also you're going to have parking and insurance. You got to take care of the car. \\nIt's like there's a lot of overhead. So, I mean, yes, it's like the economics of the system are just \\ninsanely positive given that the car -- like all of the cars we're making and have made for a while, \\nwe believe, are capable of full autonomy.  \\nSo, then if you're able to say increase the utility of that car by a factor of five, which only means \\nthat you're -- it's being used for maybe 50 hours a week out of 168, so you still notice -- you're \\nstill assuming -- that still assumes less than a third of the hours of the week is doing something \\nuseful. You've increased the value of that by five, but it still costs the same, like you have \\nsomething -- then we're a hardware company with software margins.  \\nMartin Viecha  -- Senior Director, Investor Relations  \\nPierre, do you have a follow -up? \\nPierre Ferragu  -- New Street Research -- Analyst  \\nYes, I have, actually, on a different topic for you, Vaibhav, if that's OK. It's about like your gross \\nmargin in the quarter. Could you give us a sense of like in how the gross margin evolved sequentially? How much was the impact of idle cost? How much was like the sequential benefit, \\nI imagine, of production ramping at Berlin and Austin? And then I saw like this massive jump in \\nenergy storage, very strong positive surprise. So, if you can give  us the background on that and \\ntell us how we should think about that gross margin going forward?  \\nVaibhav Taneja  -- Chief Financial Officer  \\nThanks for the question. So, in terms of -- we have a few different aspects of your question. So, \\nif I just look at from a Q3 perspective, obviously, factory idle time had an impact. It did impact \\nby -- and I won't give you the exact percentage, but it had  a decent impact for the quarter.  \\nAnd when you look at the other pieces, which we are trying to do, we did see certain of our other \\nfactories ramping up pretty well, right? And they actually contributed pretty well to the margin \\nfor this quarter. In fact, one of the factories came pretty c lose to in terms of per unit cost to where \\nwe are for our other established factory, which is Fremont. So, that was a positive in the quarter. \\nWhen it comes to energy margins, Megapack deployment was the key driver there.  \\nAnd that product has done well. I mean, on the cost curve also, we've been able to do a lot there. \\nBut I do want to caution that Megapack deployments are a bit lumpy. So, yes, we had a great \\nquarter this period.  \\nBut depending upon where we are trying to deploy that product in different markets, you would \\nsee periods where there would be downward pressure on deployment because of us trying to get \\nthe product to that the exact place where product -- \\nUnknown speaker  \\nYes, product in transit. Yes.  \\nVaibhav Taneja  -- Chief Financial Officer  \\nYes. \\nMartin Viecha  -- Senior Director, Investor Relations  \\nOK. Thank you very much. Let's go to Rod Lache from Wolfe Research. Rod, feel free to \\nunmute yourself.  \\nRod Lache  -- Wolfe Research -- Analyst  \\nThanks. Really nice to see the rate of vehicle cost improvement despite the downtime that you \\ntook. You've taken now about $2,000 out of the average vehicle costs over the past year. Can \\nyou give us maybe a sense of the rate of improvement that you see fro m the changes that you \\nalluded to, the factory changes you alluded to? Is there a way maybe to convey the speed of \\nimprovement on your existing product from here? And then related to that, can you share the \\ntiming of your next -gen, the lower -priced product  that you talked about earlier this year?  Vaibhav Taneja  -- Chief Financial Officer  \\nSo, just in terms of product margins, there are lots of puts and takes when you look at this. There \\nare certain things which we control, and there are certain things which we don't control. We \\nexpect that we'll get some benefits from our cost reduction eff orts, which are all underway. So, \\non the other hand, we just finished our factory upgrades late in Q3.  \\nSome of these factories are still in the early ramp phase in Q4. We're still not up to where we \\nwant those factories to be. So, they will impact in the near term. Plus, like Elon mentioned, we're \\ngoing to be ramping Cybertruck, which is going to be another  headwind, which we will be \\ndealing with.  \\nOn top of all that, there's overall uncertainty in the macroeconomic environment, which even \\nmakes it harder to predict precisely as to where we land. But yes, this is something which -- it's \\nan evolving thing which we're observing every day and reacting t o it on a daily basis.  \\nUnknown speaker  \\nI would just say that on the cost reduction efforts, like we are not -- we are unflagging in our \\npursuit of additional cost downs for 2024. We do have a good pipeline of them and work on both \\nthe engineering side and the factory operations side. And our intention is to like maintain or \\nexceed the trend that you saw or trying as hard as we possibly can.  \\nRod Lache  -- Wolfe Research -- Analyst  \\nThe timing of the next -gen product, can you share that?  \\nElon Musk  \\nNot at this time.  \\nRod Lache  -- Wolfe Research -- Analyst  \\nOK. And just as a follow -up, obviously, price is also a driver of demand, but that's obviously not \\nhappening in a vacuum. And you mentioned that -- I think you mentioned that at some point \\nduring this call that you're also maybe hitting the law of large nu mbers on some of your \\nproducts. Can you just share how you're thinking about price elasticity just at this point in this \\nmacro environment? And any thoughts along those lines?  \\nElon Musk  \\nI think that there's very significant price elasticity. I mean, to be totally frank, if our car costs the \\nsame as a RAV4, nobody would buy a RAV4 or at least they're very unlikely to. It's worth noting \\nthat a lot of these incentives like the tax credit and  whatnot, they're actually very difficult for the \\naverage person to access because they -- most people do not have $10,000 or even $7,500 burning a hole in their bank account. A lot of -- a large number of people are living paycheck to \\npaycheck.  \\nAnd with a lot of debt. They've got credit card debt, mortgage debt. So, yes, that's reality for \\nmost people. It's sometimes difficult for people who are high income and I'd say high to be like \\nsomeone who's earning over $200,000 a year to understand what life is like for someone who is \\nearning $50,000 or $60,000 or $70,000 a year, which is most people.  \\nSo, like for a lot of people, like this tax credit just -- they can't front $7,500 for 18 months or \\neven six months to get -- for the tax credit, and they actually don't in some case, even have that \\n$7,500 in taxes. So, it's really just the best regard to people is how much money do they have to \\npay immediately and how much per month. That's it. I think you stop right there.  \\nAnd that far is still much more expensive than a RAV4 when you look at it that way.  \\nVaibhav Taneja  -- Chief Financial Officer  \\nNow, one other thing which I'll add, when you look at car buying in general, we're trying to get \\nto the next set of EV adopters.   \\nElon Musk  \\nNot an EV adopter, just who wants a great car.  \\nVaibhav Taneja  -- Chief Financial Officer  \\nExactly.  \\nElon Musk  \\nIt's not -- so now you get things like -- honestly, I would say it's like -- somewhat correlates with \\nthe why doesn't everyone work from home crowd. I'm like -- I mean, this is like some real Marie \\nAntoinette vibes from people who say why is there no work from home. Like what about all the \\npeople that have to come to the factory and fill the cars or that all people that have to go to the \\nrestaurant and make your food and deliver your food? It's like what are you talking about you -- I \\nmean, how detached fro m reality does the work -from -home crowd have to be? While they take \\nadvantage of all those who do -- who cannot work from home. So, I mean, you have to say like \\nwhy did I sleep in the factory so many times, because it mattered.  \\nSo, I just can't emphasize again how important cost is -- it's not an optional thing for most \\npeople. It is a necessary thing. We have to make our cars more affordable that people can buy it. \\nAnd I keep harping on this interest thing, but I mean, it just r aises the cost of the car.  \\nI mean, we're looking in internal analysis, which we think is more or less on track that when you \\nlook at the cost -- or the price reductions we've made in, say, the Model Y, and you compare that to how much people's monthly payment has risen due to interest rates, the price of the Model Y \\nis almost unchanged.  \\nVaibhav Taneja  -- Chief Financial Officer  \\nIf you factor in the change in interest rates.  \\nElon Musk  \\nYes. Which is what I'm trying to say. The thing that matters is the monthly -- it's how much \\nmoney do they have to put down and do they literally have that in their bank account or their \\ncheck balance and then what is the monthly payment? And it doesn't ma tter how -- if that \\nmonthly payment is principal interest or whatever, it's just a number, and that number has to not \\ncause their bank account to go negative. So, going from near -zero interest rates to kind of the \\ncurrent very high interest rates, the actu al monthly payment is basically the same.  \\nIt's just a bunch more of it is going to interest. And there are some incremental challenges \\nbeyond that, which is the difficulty of getting credit at all has increased. And so, the number of \\npeople who simply cannot get credit, period, even if they've got  a job and everything is solid, the \\nbanks are a little gun shy on handing out credit given that a bunch of them kicked the bucket \\nearlier this year.  \\nUnknown speaker  \\nThere's also just fewer options. Even if they planned out credit, there's fewer banks together.  \\nElon Musk  \\nDigital banks still exist. Well, if you bank does not exist, you have to establish a relationship \\nwith a new bank. And so, a lot of regional banks died, and I mean, even Credit Suisse, I mean, \\ngeez, that was a shocker. But a 160 -year-old-ish Swiss institution that doesn't exist anymore.  \\nThat's mind -blowing. And I think there's still quite a few shoes to drop on the bad credit \\nsituation. I mean, commercial real estate obviously is in terrible shape. Credit card debt has been \\nrising significantly.  \\nThe credit card interest rates are usurious. It's over 20% interest rates, meaning like -- which over \\ntime is just it becomes obviously extremely punishing because if somebody's paying 20% \\ninterest on their credit cards, means they cannot pay them off. You  can't pay them off and you're \\nstill accruing interest of 20%, you're at best headed to a bad place.  \\nMartin Viecha  -- Senior Director, Investor Relations  \\nThank you. Let's go to next question from George from Canaccord.  \\nGeorge Gianarikas  -- Canaccord Genuity -- Analyst  Thank you for taking my question. Just to focus on the cost per vehicle coming down in future \\nquarters as you discussed in your written remarks. I'm curious as to what the levers of that could \\nbe. Is it more scale, more factory utilization? Is it material cost reductions? Are there things like \\nGigacasting? I mean, can you just kind of give us some data points to give us confidence that \\nthat's going to come down over time? And if I can sneak one in, please, there are press reports \\nand I know how perilous it is to believe some of these.  \\nThey say that you've included radar as an option in some Model Ys in China. And I'm just here \\nto ask if that's true. And if so, why? Thank you.  \\nElon Musk  \\nWe've not included radar. We have radar as -- a Tesla -designed radar is an experiment in Model \\nS and X. That's it. We'll see whether that experiment is worth it, but there are no plans to \\nintegrate radar into 3 or Y.  \\nJust as humans drive well, and in fact, an excellent human driver can drive with amazing safety \\nsimply with their eyes, the car will far exceed the average human safety just with visual by far \\nbecause, I mean, the car is looking at all directions all at on ce. We don't have eyes on the back of \\nmy head. And the computer never gets tired and never gets distracted, get drunk, hopefully. And \\nso, radar is -- what really matters is how much does it affect the probability of an accident.  \\nAnd in order for the radar to be effective, you have to be able to do radar -only braking -- you \\nhave to do actions that are radar -only. Otherwise, you get this disambiguation problem between \\nvision and radar. That's why we actually turned off the radar in cars historically that we had -- all \\n3 and Y used to have radar, but we turned it off because the radar actually generated more noise \\nthan signal. Now, the Tesla -designed radar is a high -resolution radar that has some potential to \\nbe useful, but the jury i s still very much out on whether that is in fact the case.  \\nUnknown speaker  \\nOn the cost question, I guess, from the vehicle side, like as Drew mentioned earlier, we are \\nalways trying to engineer our product to be cheaper to make and more efficient to make. That \\ncomes obviously on the engineering side as we come up with new innovat ions but as well on the \\nsupply chain side. With our partners, we work with them to automate some of their lines and \\nmove their bottlenecks and their high cost as well. On the logistics side, getting parts to the \\nfactory, it's not -- it's not like one thing  that you have to -- that's a tech cost everywhere, and we \\ndo it ruthlessly at all times.  \\nOperations efficiency. All of the above.  \\nVaibhav Taneja  -- Chief Financial Officer  \\nYeah. I mean, I would say there's a whole laundry list of things which we are chasing. We \\ninternally call it the cost attack. We were literally going line by line and saying, how can we \\nmake it better? And it's a grind.  Elon Musk  \\nIt's like Game of Thrones but pennies. I mean, first approximation, if you've got a $40,000 car, \\nand roughly 10,000 items in that car, that means each thing, on average, costs $4. So, in order to \\nget the cost down, say, by 10%, you have to get $0.40 out of  each part on average. It is a game of \\npennies.  \\nUnknown speaker  \\nWe play it willingly.  \\nElon Musk  \\nWe've done it many, many times. And even something as simple as like a sticker, like there's too \\nmany stickers internally in the car that nobody ever sees. There's something as simple as a QR \\ncode. You may think, well, putting a QR code on a part.  \\nWe don't just put them on there, like, well, are we actually going to use that QR code?  \\nUnknown speaker  \\nThat's $0.01.  \\nElon Musk  \\nExactly. And then inevitably, somehow, the QR code doesn't go on properly, or you can't read it \\nproperly, and it stops the line.  \\nUnknown speaker  \\nMore than $0.01.  \\nElon Musk  \\nYes, absolutely. So, chipping away, with -- I mean, it is trying to -- it does feel like digging a \\ntunnel with a spoon at times. Very much escaping prison.  \\nVaibhav Taneja  -- Chief Financial Officer  \\nYou know, on top of it, like we said, we did some factory upgrades, so we expect volume to go \\nup. That would also bring some savings from higher production. But then on the flip side, we're \\ngoing to be ramping a new product like Cybertruck, which we talked  about. So, yes, so those are \\nthe real puts and takes what we are working through.  \\nElon Musk  Yeah. But there's not like some accidentally – you know, some brick of gold that we've got left \\nin the car, unfortunately. And it's -- we're trying to be very rigorous about improving the quality \\nand capability of the car because it's like any fool can red uce the cost of a car by making it worse \\nand just deleting functionality and capability and that's how I call this sort of any fool like -- if \\nyou want to like lose weight and you said, well, I need to lose over 15 pounds right away, well, \\nyou could chop y our arm off, but then you're sitting with one arm. You know, you're still fat.  \\nSo, sort of like, yes, you actually have to eat less food and work out. That's the actual way. And \\ndoctor's advice. Yeah.  \\nIt's not super fun because food is delicious. And personally, I'm not -- I don't love working out. I \\nknow say do. I wish I did, but I don't.  \\nUnless moving the mouse consists of working out. In which case, I love moving the mouse.  \\nMartin Viecha  -- Senior Director, Investor Relations  \\nAll right. Let's go to Colin Langan from Wells Fargo. Colin, can you unmute yourself?  \\nColin Langan  -- Wells Fargo Securities -- Analyst  \\nSorry about that. Do you hear me now?  \\nElon Musk  \\nYes. \\nColin Langan  -- Wells Fargo Securities -- Analyst  \\nGreat. Thanks for taking my question. You said in the commentary that you're not going full tilt \\non the plant in Mexico until there are signs that the economy is strong. Can you continue at a \\n50% CAGR without that plant? And where would that come from? And  any color on what you \\nmean sort of not going full tilt? Could that plant get delayed indefinitely? Or what are you going \\nto talk about?  \\nElon Musk  \\nNo, we're definitely making the factory in Mexico. We feel very good about that. We put a lot of \\neffort into looking at different locations, and we feel very good about that location, and we are \\ngoing to build a factory there. And it's going to be great.  \\nThe question is really just one of timing. And there's going to be a broken record on the interest \\nfront. It's just the interest rates have to come down. Like if interest rates keep rising, you just \\nfundamentally reduce affordability.  It is just the same as increasing the price of the car. So, I just don't have visibility into -- if you \\ncan tell me what the interest rates are, I can tell you when we should build the factory. We're \\ngoing to build it. And I mean, I think we'll start the i nitial phases of construction next year.  \\nBut I am still somewhat scarred by 2009 when General Motors and Chrysler went bankrupt. \\nWhile that's now 14 years ago, it's -- that is seared into my mind with a branding iron because \\nkind of Tesla was just hanging on by a thread during that entire time an d with -- I mean, we \\nclosed a financing round 2008 at 6 p.m. December 24, Christmas Eve. And if we had not closed \\nthat financing round, we would have bounced payroll two days after Christmas.  \\nSo, we actually closed that around the last hour, the last day that it was possible, stressful to say \\nthe least, and then barely made it through 2009. So, I'm like -- I want to just -- I don't want to be \\ngoing at top speed into uncertainty. A lot of wars g oing on in the world obviously as well, and \\nwe have room here.  \\nUnknown speaker  \\nLike in Giga Texas. You said we still have room in this building. It's not full with Cybertruck \\nand the line. There's plenty of growth opportunities still to have inside the building where our \\nteam already is.  \\nElon Musk  \\nWe also have 2,000 acres here.  \\nUnknown speaker  \\nThere's also a bunch more.  \\nElon Musk  \\nWe're actually only occupying a tiny corner of the land that we have. So, we could technically do \\nall the scaling just here. So, I mean, personnel is our biggest challenge and that's the greater \\nAustin area only has -- generously the greater Austin area only has  2 million people. So, people \\nare moving here and they're willing to move here, but there is somewhat of a housing crisis.  \\nThey got to live somewhere. So, yes. I don't know. I mean, I'm just curious.  \\nLike I just -- I'm not saying things will be bad. I'm just saying they might be. And I think like \\nTesla is an incredibly capable ship, but we need to make sure like as -- if the macroeconomic \\nconditions are stormy, even if the best ship is still going to h ave tough times. The weaker ships \\nwill sink.  \\nWe're not going to sink. But even a great ship in a storm has challenges. Now, that storm will \\napply to everyone, not just us and not just the auto industry. It will apply to everyone, I think.  So, apart from necessary sort of staples like food and stuff, but I don't know. If interest rates start \\ncoming down, we will accelerate.  \\nMartin Viecha  -- Senior Director, Investor Relations  \\nAll right.  \\nElon Musk  \\nIf anybody's got any good guesses on this, I'd love to be less wrong. And I apologize if I'm \\nperhaps more paranoid than I should be because that might also be the case because I am -- I \\nhave PTSD from 2009 big time. And in 2017 through '19 were not a picni c either. That was very \\ntough going.  \\nSo, the auto industry is also somewhat cyclic because people can't hesitate to buy a new car and \\nif there's uncertainty in the economy. So, it's product companies do very well in good economic \\ntimes, and they don't do as well in tough economic times. So, i t's just -- whereas if somebody is \\nselling bread, then I think that people still eat bread. Yes.  \\nYes, we need bread. We need to feed all the time. But new car, you don't have to have \\n[Inaudible].  \\nVaibhav Taneja  -- Chief Financial Officer  \\nEspecially if there are wars going on and then that impacts your sentiment.  \\nElon Musk  \\nYes. I mean, people are reading about wars all over the world at this -- buying a new car tends to \\nnot be front of mind.  \\nMartin Viecha  -- Senior Director, Investor Relations  \\nAll right. Unfortunately, that's all the time we have today. Thank you very much for all of your \\ngood questions, and we'll see you again in three months. Thank you very much.  \\n \""
            ],
            "application/vnd.google.colaboratory.intrinsic+json": {
              "type": "string"
            }
          },
          "metadata": {},
          "execution_count": 21
        }
      ]
    },
    {
      "cell_type": "markdown",
      "source": [
        "## Using the recursive character splitter to divide text in chunks which will be later vectorized"
      ],
      "metadata": {
        "id": "Y5qucWkwx_e2"
      }
    },
    {
      "cell_type": "code",
      "source": [
        "text_splitter = RecursiveCharacterTextSplitter(\n",
        "    chunk_size=400,\n",
        "    chunk_overlap=50\n",
        ")"
      ],
      "metadata": {
        "id": "vumevVBsjTZ9"
      },
      "execution_count": null,
      "outputs": []
    },
    {
      "cell_type": "code",
      "source": [
        "chunks = text_splitter.split_text(text=text)"
      ],
      "metadata": {
        "id": "6UkEDT6Yjfyh"
      },
      "execution_count": null,
      "outputs": []
    },
    {
      "cell_type": "markdown",
      "source": [
        "## As result, 133 chunks are created"
      ],
      "metadata": {
        "id": "5zqhx9zmyHvh"
      }
    },
    {
      "cell_type": "code",
      "source": [
        "len(chunks)"
      ],
      "metadata": {
        "colab": {
          "base_uri": "https://localhost:8080/"
        },
        "id": "gKDrK3dajptu",
        "outputId": "3256cda1-95a7-4907-d55b-fd6a84ae97f6"
      },
      "execution_count": null,
      "outputs": [
        {
          "output_type": "execute_result",
          "data": {
            "text/plain": [
              "133"
            ]
          },
          "metadata": {},
          "execution_count": 24
        }
      ]
    },
    {
      "cell_type": "markdown",
      "source": [
        "## Using OpenAI embeddings to vectorize these chunks and then store them in pinecone"
      ],
      "metadata": {
        "id": "zZ81z1w3yKMK"
      }
    },
    {
      "cell_type": "code",
      "source": [
        "embedings = OpenAIEmbeddings()\n",
        "vectorstore = Pinecone.from_texts(chunks, embedding=embedings, index_name=os.getenv('PINECONE_INDEX_NAME'))"
      ],
      "metadata": {
        "id": "fcpvb2JXgQD1"
      },
      "execution_count": null,
      "outputs": []
    },
    {
      "cell_type": "markdown",
      "source": [
        "## Testing with query outside of the model's inner knowledge base"
      ],
      "metadata": {
        "id": "E-V6LI6AyPcO"
      }
    },
    {
      "cell_type": "code",
      "source": [
        "query = 'What is being said about building a factory in Mexico?'"
      ],
      "metadata": {
        "id": "wyy84rf1hHzE"
      },
      "execution_count": null,
      "outputs": []
    },
    {
      "cell_type": "markdown",
      "source": [
        "## The most simmilar chunk is retrieved"
      ],
      "metadata": {
        "id": "v42VgmxTyTg-"
      }
    },
    {
      "cell_type": "code",
      "source": [
        "docs = vectorstore.similarity_search(query=query, k=1)\n",
        "chain = load_qa_chain(llm=chat, chain_type='map_reduce', verbose=True)"
      ],
      "metadata": {
        "id": "oAx3osTuhORF"
      },
      "execution_count": null,
      "outputs": []
    },
    {
      "cell_type": "markdown",
      "source": [
        "## Using the LLM to fetch response"
      ],
      "metadata": {
        "id": "tJjTMIAGyWrN"
      }
    },
    {
      "cell_type": "code",
      "source": [
        "with get_openai_callback() as cb:\n",
        "  response = chain.run(input_documents = docs, question=query)\n",
        "  print(cb)"
      ],
      "metadata": {
        "colab": {
          "base_uri": "https://localhost:8080/"
        },
        "id": "mU6lCfk2hay6",
        "outputId": "98b1ca5f-469b-4da9-9b72-ed2f3a10783a"
      },
      "execution_count": null,
      "outputs": [
        {
          "output_type": "stream",
          "name": "stdout",
          "text": [
            "\n",
            "\n",
            "\u001b[1m> Entering new MapReduceDocumentsChain chain...\u001b[0m\n",
            "\n",
            "\n",
            "\u001b[1m> Entering new LLMChain chain...\u001b[0m\n",
            "Prompt after formatting:\n",
            "\u001b[32;1m\u001b[1;3mSystem: Use the following portion of a long document to see if any of the text is relevant to answer the question. \n",
            "Return any relevant text verbatim.\n",
            "______________________\n",
            "to talk about?  \n",
            "Elon Musk  \n",
            "No, we're definitely making the factory in Mexico. We feel very good about that. We put a lot of \n",
            "effort into looking at different locations, and we feel very good about that location, and we are \n",
            "going to build a factory there. And it's going to be great.  \n",
            "The question is really just one of timing. And there's going to be a broken record on the interest\n",
            "Human: What is being said about building a factory in Mexico?\u001b[0m\n",
            "\n",
            "\u001b[1m> Finished chain.\u001b[0m\n",
            "\n",
            "\n",
            "\u001b[1m> Entering new LLMChain chain...\u001b[0m\n",
            "Prompt after formatting:\n",
            "\u001b[32;1m\u001b[1;3mSystem: Given the following extracted parts of a long document and a question, create a final answer. \n",
            "If you don't know the answer, just say that you don't know. Don't try to make up an answer.\n",
            "______________________\n",
            "\"We're definitely making the factory in Mexico. We feel very good about that. We put a lot of effort into looking at different locations, and we feel very good about that location, and we are going to build a factory there. And it's going to be great.\"\n",
            "Human: What is being said about building a factory in Mexico?\u001b[0m\n",
            "\n",
            "\u001b[1m> Finished chain.\u001b[0m\n",
            "\n",
            "\u001b[1m> Finished chain.\u001b[0m\n",
            "Tokens Used: 364\n",
            "\tPrompt Tokens: 270\n",
            "\tCompletion Tokens: 94\n",
            "Successful Requests: 2\n",
            "Total Cost (USD): $0.000593\n"
          ]
        }
      ]
    },
    {
      "cell_type": "markdown",
      "source": [
        "## Displaying response"
      ],
      "metadata": {
        "id": "AC2HGLFFyZji"
      }
    },
    {
      "cell_type": "code",
      "source": [
        "print(response)"
      ],
      "metadata": {
        "colab": {
          "base_uri": "https://localhost:8080/"
        },
        "id": "fmwv2HG5hjzn",
        "outputId": "c5736cad-a05b-4d87-ae1f-430ff9b52c97"
      },
      "execution_count": null,
      "outputs": [
        {
          "output_type": "stream",
          "name": "stdout",
          "text": [
            "The speaker states that they are definitely building a factory in Mexico and that they feel very good about the chosen location. They also express confidence in the decision and believe that the factory will be great.\n"
          ]
        }
      ]
    },
    {
      "cell_type": "code",
      "source": [],
      "metadata": {
        "id": "epTmbShxkb_Q"
      },
      "execution_count": null,
      "outputs": []
    }
  ]
}